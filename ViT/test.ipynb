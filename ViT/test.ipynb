{
 "cells": [
  {
   "cell_type": "code",
   "execution_count": null,
   "id": "c6678e48-4721-411d-baed-54c2e2b31e0b",
   "metadata": {},
   "outputs": [],
   "source": [
    "import torch\n",
    "from models.vit import ViT\n",
    "from data_loader import get_coco_dataloader\n",
    "\n",
    "def test_model(model, dataloader, device):\n",
    "    model.eval()\n",
    "    correct = 0\n",
    "\n",
    "    with torch.no_grad():\n",
    "        for images, targets in tqdm(dataloader, desc=\"Testing\", leave=False):\n",
    "            images = images.to(device)\n",
    "            labels = torch.tensor([t[0]['category_id'] for t in targets]).to(device)\n",
    "\n",
    "            outputs = model(images)\n",
    "            _, preds = torch.max(outputs, 1)\n",
    "            correct += torch.sum(preds == labels).item()\n",
    "\n",
    "    accuracy = correct / len(dataloader.dataset)\n",
    "    print(f\"Test Accuracy: {accuracy:.4f}\")\n",
    "\n",
    "# 환경 설정\n",
    "device = torch.device(\"cuda\" if torch.cuda.is_available() else \"cpu\")\n",
    "\n",
    "# 모델 초기화 및 로드\n",
    "model = ViT(img_size=224, patch_size=16, d_model=768, num_classes=80, \n",
    "            ffn_hidden=3072, n_head=12, n_layers=12, drop_prob=0.1, device=device).to(device)\n",
    "model.load_state_dict(torch.load(\"vit_epoch_10.pth\"))\n",
    "\n",
    "# 데이터 로더\n",
    "_, val_loader = get_coco_dataloader(data_dir=\"/path/to/coco\", batch_size=32)\n",
    "\n",
    "# 테스트\n",
    "test_model(model, val_loader, device)\n"
   ]
  }
 ],
 "metadata": {
  "kernelspec": {
   "display_name": "Python 3 (ipykernel)",
   "language": "python",
   "name": "python3"
  },
  "language_info": {
   "codemirror_mode": {
    "name": "ipython",
    "version": 3
   },
   "file_extension": ".py",
   "mimetype": "text/x-python",
   "name": "python",
   "nbconvert_exporter": "python",
   "pygments_lexer": "ipython3",
   "version": "3.12.7"
  }
 },
 "nbformat": 4,
 "nbformat_minor": 5
}
