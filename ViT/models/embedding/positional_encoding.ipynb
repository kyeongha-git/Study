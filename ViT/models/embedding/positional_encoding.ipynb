{
 "cells": [
  {
   "cell_type": "code",
   "execution_count": null,
   "id": "df295d54-8a4f-4d5a-9675-b26031e8e967",
   "metadata": {},
   "outputs": [],
   "source": [
    "import torch\n",
    "import torch.nn\n",
    "\n",
    "class PositionalEncoding(nn.Module):\n",
    "    def __init__(self, d_model, max_len, device):\n",
    "        super(PositionalEncoding, self).__init__()\n",
    "        # encoding matrix\n",
    "        self.encoding = torch.zeros(max_len, d_model, device = device)\n",
    "        self.encoding.requires_grad = False # 논문에서 이를 학습하여 정해도 성능이 비슷했다고 함. 따라서, 학습은 하지 않음.\n",
    "\n",
    "        # positon matrix\n",
    "        pos = torch.arange(0, max_len, device = device)\n",
    "        pos = pos.float().unsqueeze(dim=1)\n",
    "\n",
    "        _2i = torch.arange(0, d_model, step = 2, device = device).float()\n",
    "        self.encoding[:, 0::2] = torch.sin(pos / (10000 ** (_2i/d_model))) # 짝수 인덱스 ex. 0,2,4,6,8, ..\n",
    "        self.encoding[:, 1::2] = torch.cos(pos / (10000 ** (_2i/d_model))) # 홀수 인덱스 ex. 1,3,5,7,9, ...\n",
    "\n",
    "    def forward(self, x):\n",
    "        batch_size, num_patches, d_model = x.size() # batch_size, num_patches, d_model\n",
    "\n",
    "        pos_enc = self.encoding.unsqueeze(0).repeat(batch_size, 1, 1) # batch_size 추가한 후 배치크기만큼 반복하여 채워줌.\n",
    "        # 입력 데이터의 길이에 맞추어 잘라서 리턴.\n",
    "        return self.encoding[:, :num_patches, :]"
   ]
  }
 ],
 "metadata": {
  "kernelspec": {
   "display_name": "Python 3 (ipykernel)",
   "language": "python",
   "name": "python3"
  },
  "language_info": {
   "codemirror_mode": {
    "name": "ipython",
    "version": 3
   },
   "file_extension": ".py",
   "mimetype": "text/x-python",
   "name": "python",
   "nbconvert_exporter": "python",
   "pygments_lexer": "ipython3",
   "version": "3.12.7"
  }
 },
 "nbformat": 4,
 "nbformat_minor": 5
}
