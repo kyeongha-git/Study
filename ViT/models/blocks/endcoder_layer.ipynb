{
 "cells": [
  {
   "cell_type": "code",
   "execution_count": null,
   "id": "e948d157-9b7b-4f3d-bb8a-701fbc9d0a68",
   "metadata": {},
   "outputs": [],
   "source": [
    "import torch\n",
    "import torch.nn\n",
    "from models.layers.layer_norm import LayerNorm\n",
    "from models.layers.multi_head_attention import MultiHeadAttention\n",
    "from models.layers.position_wise_feed_forward import PositionwiseFeedForward\n",
    "\n",
    "class EncoderLayer(nn.Module):\n",
    "    def __init__(self, d_model, ffn_hidden, n_head, drop_prob):\n",
    "        super(EncoderLayer, self).__init__()\n",
    "        self.attention = MultiHeadAttention(d_model, n_head)\n",
    "        self.norm1 = LayerNorm(d_model = d_model)\n",
    "        self.dropout1 = nn.Dropout(p = drop_prob)\n",
    "        \n",
    "        self.ffn = PositionwiseFeedForward(d_model, ffn_hidden, drop_prob)\n",
    "        self.norm2 = LayerNorm(d_model = d_model)\n",
    "        self.dropout2 = nn.Dropout(p = drop_prob)\n",
    "        \n",
    "    def forward(self, x):\n",
    "        # _x는 residual connection을 위하여 이전 값 저장하는 변수.\n",
    "        # x는 forward를 진행하는 변수.\n",
    "        _x = x\n",
    "        x = self.norm1(x)\n",
    "        x = self.attention(q = x, k = x, v = x)\n",
    "        x = self.dropout1(x)\n",
    "        x = x + _x\n",
    "        _x = x\n",
    "        \n",
    "        x = self.norm2(x)\n",
    "        x = self.ffn(x)\n",
    "        x = self.dropout2(x)\n",
    "        x = x + _x\n",
    "        return x\n",
    "\n"
   ]
  }
 ],
 "metadata": {
  "kernelspec": {
   "display_name": "Python 3 (ipykernel)",
   "language": "python",
   "name": "python3"
  },
  "language_info": {
   "codemirror_mode": {
    "name": "ipython",
    "version": 3
   },
   "file_extension": ".py",
   "mimetype": "text/x-python",
   "name": "python",
   "nbconvert_exporter": "python",
   "pygments_lexer": "ipython3",
   "version": "3.12.7"
  }
 },
 "nbformat": 4,
 "nbformat_minor": 5
}
