{
 "cells": [
  {
   "cell_type": "code",
   "execution_count": null,
   "id": "e5679466-d744-40d9-a0d4-99f7257f65b6",
   "metadata": {},
   "outputs": [],
   "source": [
    "import torch\n",
    "import torch.nn\n",
    "from models.blocks.encoder_laeyr import EncoderLayer\n",
    "from models.embedding.patch_embeddings import PatchEmbedding\n",
    "from models.layers.mlp_head import MLPHead\n",
    "\n",
    "class ViT(nn.Module):\n",
    "\n",
    "    def __init__(self, img_size, patch_size, d_model, num_classes, ffn_hidden, n_head, n_layers, drop_prob, device):\n",
    "        super().__init__()\n",
    "        self.emb = PatchEmbedding(img_size = img_size,\n",
    "                                    patch_size = patch_size,\n",
    "                                    d_model = d_model,\n",
    "                                    in_channels = 3,\n",
    "                                    device = device)\n",
    "        \n",
    "        self.encoder = nn.ModuleList([EncoderLayer(d_model = d_model,\n",
    "                                                   ffn_hidden = ffn_hidden,\n",
    "                                                   n_head = n_head,\n",
    "                                                   drop_prob = drop_prob)\n",
    "                                    for _ in range(n_layers)]) # n_layers 만큼 Encoder 반복 생성.\n",
    "        self.mlp_head = MLPHead(d_model = d_model,\n",
    "                                ffn_hidden = ffn_hidden,\n",
    "                                n_classes = num_classes,\n",
    "                                drop_prob = drop_prob)\n",
    "\n",
    "    def forward(self, x):\n",
    "        # Data Processing\n",
    "        x = self.emb(x)\n",
    "\n",
    "        # Encoder\n",
    "        for layer in self.encoder:\n",
    "            x = layer(x)\n",
    "\n",
    "        # MLP Head\n",
    "        x = self.mlp_head(x)\n",
    "        \n",
    "        return x"
   ]
  }
 ],
 "metadata": {
  "kernelspec": {
   "display_name": "Python 3 (ipykernel)",
   "language": "python",
   "name": "python3"
  },
  "language_info": {
   "codemirror_mode": {
    "name": "ipython",
    "version": 3
   },
   "file_extension": ".py",
   "mimetype": "text/x-python",
   "name": "python",
   "nbconvert_exporter": "python",
   "pygments_lexer": "ipython3",
   "version": "3.12.7"
  }
 },
 "nbformat": 4,
 "nbformat_minor": 5
}
