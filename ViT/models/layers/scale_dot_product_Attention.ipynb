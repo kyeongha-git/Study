{
 "cells": [
  {
   "cell_type": "code",
   "execution_count": null,
   "id": "b2a00339-38f1-4104-95a6-bc09eccaaa3a",
   "metadata": {},
   "outputs": [],
   "source": [
    "import math\n",
    "import torch.nn\n",
    "\n",
    "class ScaleDotProductAttention(nn.Module):\n",
    "\n",
    "    def __init__(self):\n",
    "        super(ScaleDotProductAttention, self).__init__()\n",
    "        self.softmax = nn.Softmax(dim=-1)\n",
    "\n",
    "    def forward(self, q, k, v, e=1e-12):\n",
    "        # Process: Matmul(Q, K) -> Scale -> SoftMax (여기까지 Attention Score) -> MatMul(Score, V)\n",
    "\n",
    "        #Scale은 k의 차원의 sqrt. -> k의 차원을 구해야 함.\n",
    "        #input은 4차원. -> (batch_size, head, num_patches, d_tensor)\n",
    "        batch_size, head, num_patches, d_tensor = k.size()\n",
    "\n",
    "        # scale dot_prodct\n",
    "        k_t = k.transpose(2,3)\n",
    "        score = q@k_t / math.sqrt(d_tensor)\n",
    "            \n",
    "        # Softmax\n",
    "        score = self.softmax(score)\n",
    "\n",
    "        # MatMul(Score, V)\n",
    "        v = score @ v\n",
    "\n",
    "        return v, score"
   ]
  }
 ],
 "metadata": {
  "kernelspec": {
   "display_name": "Python 3 (ipykernel)",
   "language": "python",
   "name": "python3"
  },
  "language_info": {
   "codemirror_mode": {
    "name": "ipython",
    "version": 3
   },
   "file_extension": ".py",
   "mimetype": "text/x-python",
   "name": "python",
   "nbconvert_exporter": "python",
   "pygments_lexer": "ipython3",
   "version": "3.12.7"
  }
 },
 "nbformat": 4,
 "nbformat_minor": 5
}
