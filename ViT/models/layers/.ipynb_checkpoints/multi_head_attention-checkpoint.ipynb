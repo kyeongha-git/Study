{
 "cells": [
  {
   "cell_type": "code",
   "execution_count": null,
   "id": "96276ca3-ef43-4877-bdeb-bf59b599e35a",
   "metadata": {},
   "outputs": [],
   "source": [
    "import torch.nn\n",
    "\n",
    "from models.layers.scale_dot_product_attention import ScaleDotProductAttention\n",
    "\n",
    "class MultiHeadAttention(nn.Module):\n",
    "\n",
    "    def __init__(self, d_model, n_head):\n",
    "        super(MultiHeadAttention, self).__init__()\n",
    "        self.n_head = n_head\n",
    "        self.attention = ScaleDotProductAttention()\n",
    "        self.w_q = nn.Linear(d_model, d_model)\n",
    "        self.w_k = nn.Linear(d_model, d_model)\n",
    "        self.w_v = nn.Linear(d_model, d_model)\n",
    "        self.w_concat = nn.Linear(d_model, d_model)\n",
    "\n",
    "    def forward(self, q, k, v):\n",
    "        q = self.w_q(q) # bath_size, num_patches, d_model\n",
    "        q = self.split(q) # batch_szie, head, num_patches, d_model\n",
    "        \n",
    "        k = self.w_k(k) # bath_size, num_patches, d_model\n",
    "        k = self.split(k) # batch_szie, head, num_patches, d_model\n",
    "        \n",
    "        v = self.w_v(v) # bath_size, num_patches, d_model\n",
    "        v = self.split(v) # batch_szie, head, num_patches, d_model\n",
    "\n",
    "        out, attention = self.attention(q, k, v)\n",
    "\n",
    "        out = self.concat(out)\n",
    "        out = self.w_concat(out)\n",
    "\n",
    "        return out\n",
    "\n",
    "    def split(self, tensor):\n",
    "        # input: [batch_size, num_patches, d_model]\n",
    "        # output: [batch_size, head, num_patches, d_model]\n",
    "        \n",
    "        batch_size, num_patches, d_model = tensor.size()\n",
    "        d_tensor = d_model // self.n_head\n",
    "        tensor = tensor.view(batch_size, num_patches, self.n_head, d_tensor).transpose(1,2)\n",
    "\n",
    "        return tensor\n",
    "\n",
    "    def concat(self, tensor):\n",
    "        # input: [batch_size, head, num_patches, d_model]\n",
    "        # output: [batch_size, num_patches, d_model]\n",
    "        \n",
    "        batch_size, head, num_patches, d_tensor = tensor.size()\n",
    "        d_model = d_tensor * head\n",
    "\n",
    "        # transpose -> [batch_size, length, head, d_model]\n",
    "        # view -> [batch_size, length, d_model]\n",
    "        # contiguous()는 transpose와 view의 메모리 구조 방식이 다르기 때문에 연속 실행 시 에러가 반환됨. 따라서, 메모리 구조를 변경하는 함수.\n",
    "        tensor = tensor.transpose(1,2).contiguous().view(batch_size, num_patches, d_model)\n",
    "        return tensor"
   ]
  }
 ],
 "metadata": {
  "kernelspec": {
   "display_name": "Python 3 (ipykernel)",
   "language": "python",
   "name": "python3"
  },
  "language_info": {
   "codemirror_mode": {
    "name": "ipython",
    "version": 3
   },
   "file_extension": ".py",
   "mimetype": "text/x-python",
   "name": "python",
   "nbconvert_exporter": "python",
   "pygments_lexer": "ipython3",
   "version": "3.12.7"
  }
 },
 "nbformat": 4,
 "nbformat_minor": 5
}
