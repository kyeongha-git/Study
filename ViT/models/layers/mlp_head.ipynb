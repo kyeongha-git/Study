{
 "cells": [
  {
   "cell_type": "code",
   "execution_count": null,
   "id": "40bff793-75b1-4c81-b699-ae13a2837212",
   "metadata": {},
   "outputs": [],
   "source": [
    "import torch\n",
    "import torch.nn\n",
    "from models.layers.layer_norm import LayerNorm\n",
    "\n",
    "class MLPHead(nn.Module):\n",
    "    def __init__(self, d_model, ffn_hidden, n_classes, drop_prob):\n",
    "        super(MLPHead, self).__init__()\n",
    "        self.norm = LayerNorm(d_model)\n",
    "        self.linear1 = nn.Linear(d_model, ffn_hidden)\n",
    "        self.dropout = nn.Dropout(p = drop_prob)\n",
    "        self.gelu = nn.GELU()\n",
    "        self.linear2 = nn.Linear(ffn_hidden, n_classes)\n",
    "\n",
    "    def forward(self, x):\n",
    "        x = self.norm(x[:, 0])\n",
    "        x = self.linear1(x)\n",
    "        x = self.gelu(x)\n",
    "        x = self.dropout(x)\n",
    "\n",
    "        x = self.linear2(x)\n",
    "        return x"
   ]
  }
 ],
 "metadata": {
  "kernelspec": {
   "display_name": "Python 3 (ipykernel)",
   "language": "python",
   "name": "python3"
  },
  "language_info": {
   "codemirror_mode": {
    "name": "ipython",
    "version": 3
   },
   "file_extension": ".py",
   "mimetype": "text/x-python",
   "name": "python",
   "nbconvert_exporter": "python",
   "pygments_lexer": "ipython3",
   "version": "3.12.7"
  }
 },
 "nbformat": 4,
 "nbformat_minor": 5
}
