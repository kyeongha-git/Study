{
 "cells": [
  {
   "cell_type": "code",
   "execution_count": null,
   "id": "6abbe316-65d0-43dd-934c-98bc37198ce3",
   "metadata": {},
   "outputs": [],
   "source": [
    "import torch\n",
    "import torch.nn as nn\n",
    "import torch.optim as optim\n",
    "from models.vit import ViT\n",
    "from data_loader import get_coco_dataloader\n",
    "from utils import train_epoch, evaluate\n",
    "\n",
    "# 환경 설정\n",
    "device = torch.device(\"cuda\" if torch.cuda.is_available() else \"cpu\")\n",
    "print(f\"Using device: {device}\")\n",
    "\n",
    "# 데이터 로더\n",
    "train_loader, val_loader = get_coco_dataloader(data_dir=\"/path/to/coco\", batch_size=32)\n",
    "\n",
    "# 모델 초기화\n",
    "model = ViT(img_size=224, patch_size=16, d_model=768, num_classes=80, \n",
    "            ffn_hidden=3072, n_head=12, n_layers=12, drop_prob=0.1, device=device).to(device)\n",
    "\n",
    "# 손실 함수와 최적화기\n",
    "criterion = nn.CrossEntropyLoss()\n",
    "optimizer = optim.AdamW(model.parameters(), lr=3e-4, weight_decay=1e-2)\n",
    "\n",
    "# 학습 루프\n",
    "num_epochs = 10\n",
    "\n",
    "for epoch in range(num_epochs):\n",
    "    print(f\"Epoch {epoch+1}/{num_epochs}\")\n",
    "    train_loss, train_acc = train_epoch(model, train_loader, criterion, optimizer, device)\n",
    "    val_loss, val_acc = evaluate(model, val_loader, criterion, device)\n",
    "\n",
    "    print(f\"Train Loss: {train_loss:.4f}, Train Acc: {train_acc:.4f}\")\n",
    "    print(f\"Val Loss: {val_loss:.4f}, Val Acc: {val_acc:.4f}\")\n",
    "\n",
    "    # 모델 저장\n",
    "    torch.save(model.state_dict(), f\"vit_epoch_{epoch+1}.pth\")\n"
   ]
  }
 ],
 "metadata": {
  "kernelspec": {
   "display_name": "Python 3 (ipykernel)",
   "language": "python",
   "name": "python3"
  },
  "language_info": {
   "codemirror_mode": {
    "name": "ipython",
    "version": 3
   },
   "file_extension": ".py",
   "mimetype": "text/x-python",
   "name": "python",
   "nbconvert_exporter": "python",
   "pygments_lexer": "ipython3",
   "version": "3.12.7"
  }
 },
 "nbformat": 4,
 "nbformat_minor": 5
}
