{
 "cells": [
  {
   "cell_type": "code",
   "execution_count": null,
   "id": "b882390c-6c2f-47bd-a8fb-c229f0902075",
   "metadata": {},
   "outputs": [],
   "source": [
    "import torch\n",
    "from torch.utils.data import DataLoader\n",
    "from torchvision import transforms, datasets\n",
    "\n",
    "def get_coco_dataloader(data_dir, batch_size=32, num_workers=4):\n",
    "    # Transformations for training and validation\n",
    "    train_transforms = transforms.Compose([\n",
    "        transforms.Resize((224, 224)),\n",
    "        transforms.RandomHorizontalFlip(),\n",
    "        transforms.ToTensor(),\n",
    "        transforms.Normalize([0.485, 0.456, 0.406], [0.229, 0.224, 0.225])\n",
    "    ])\n",
    "\n",
    "    val_transforms = transforms.Compose([\n",
    "        transforms.Resize((224, 224)),\n",
    "        transforms.ToTensor(),\n",
    "        transforms.Normalize([0.485, 0.456, 0.406], [0.229, 0.224, 0.225])\n",
    "    ])\n",
    "\n",
    "    # COCO Dataset\n",
    "    train_dataset = datasets.CocoDetection(\n",
    "        root=f\"{data_dir}/train2017\",\n",
    "        annFile=f\"{data_dir}/annotations/instances_train2017.json\",\n",
    "        transform=train_transforms\n",
    "    )\n",
    "\n",
    "    val_dataset = datasets.CocoDetection(\n",
    "        root=f\"{data_dir}/val2017\",\n",
    "        annFile=f\"{data_dir}/annotations/instances_val2017.json\",\n",
    "        transform=val_transforms\n",
    "    )\n",
    "\n",
    "    # DataLoader\n",
    "    train_loader = DataLoader(train_dataset, batch_size=batch_size, shuffle=True, num_workers=num_workers)\n",
    "    val_loader = DataLoader(val_dataset, batch_size=batch_size, shuffle=False, num_workers=num_workers)\n",
    "\n",
    "    return train_loader, val_loader\n"
   ]
  }
 ],
 "metadata": {
  "kernelspec": {
   "display_name": "Python 3 (ipykernel)",
   "language": "python",
   "name": "python3"
  },
  "language_info": {
   "codemirror_mode": {
    "name": "ipython",
    "version": 3
   },
   "file_extension": ".py",
   "mimetype": "text/x-python",
   "name": "python",
   "nbconvert_exporter": "python",
   "pygments_lexer": "ipython3",
   "version": "3.12.7"
  }
 },
 "nbformat": 4,
 "nbformat_minor": 5
}
